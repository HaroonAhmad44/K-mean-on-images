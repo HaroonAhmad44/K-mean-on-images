{
 "cells": [
  {
   "cell_type": "code",
   "execution_count": null,
   "metadata": {},
   "outputs": [],
   "source": [
    "import numpy as np\n",
    "import matplotlib.pyplot as plt\n",
    "import matplotlib.image as mpimg"
   ]
  },
  {
   "cell_type": "code",
   "execution_count": null,
   "metadata": {},
   "outputs": [],
   "source": [
    "#write image name\n",
    "img=mpimg.imread('test.jpg')\n",
    "plt.imshow(img)\n",
    "plt.show()"
   ]
  },
  {
   "cell_type": "code",
   "execution_count": null,
   "metadata": {},
   "outputs": [],
   "source": [
    "output=np.reshape(img,(img.shape[0]*img.shape[1],img.shape[2]))\n",
    "\n",
    "rows=output.shape[0]\n",
    "cols=output.shape[1]"
   ]
  },
  {
   "cell_type": "code",
   "execution_count": null,
   "metadata": {},
   "outputs": [],
   "source": [
    "NoOfclusters = int(input('how many clusters do you want ')) \n",
    "centers=np.zeros((NoOfclusters,cols))\n",
    "for i in range(NoOfclusters): \n",
    "    centers[i] = output[int(np.random.randint(0,output.shape[0]))]"
   ]
  },
  {
   "cell_type": "code",
   "execution_count": null,
   "metadata": {},
   "outputs": [],
   "source": [
    "clusters=np.zeros(output.shape[0])\n",
    "dis=np.zeros(NoOfclusters)\n",
    "iteration=1\n",
    "for i in range(iteration):\n",
    "    \n",
    "    \n",
    "    point=0\n",
    "    while(point<output.shape[0]):\n",
    "            a=np.array((output[point][0],output[point][1],output[point][2]))\n",
    "            for k in range(NoOfclusters):\n",
    "                b=np.array((centers[k][0],centers[k][1],centers[k][2]))\n",
    "                dis[k]=np.linalg.norm(a-b)\n",
    "                clusters[point]=np.where(dis==np.min(dis))[0][0]\n",
    "            point+=1\n",
    "    \n",
    "    \n",
    "    for k in range(NoOfclusters): \n",
    "            temp=np.where(clusters==k)[0]\n",
    "            sumx = np.sum(np.take(output[:,0],temp))\n",
    "            sumy = np.sum(np.take(output[:,1],temp))\n",
    "            sumz = np.sum(np.take(output[:,2],temp))\n",
    "            count= len(temp)\n",
    "            if(count == 0): \n",
    "                count = 1\n",
    "            centers[k][0] = int(sumx / count) \n",
    "            centers[k][1] = int(sumy / count)\n",
    "            centers[k][2] = int(sumz / count)"
   ]
  },
  {
   "cell_type": "code",
   "execution_count": null,
   "metadata": {},
   "outputs": [],
   "source": [
    "recovered = clusters.reshape(img.shape[0], img.shape[1])\n",
    "plt.imshow(recovered)\n",
    "plt.show()"
   ]
  },
  {
   "cell_type": "code",
   "execution_count": null,
   "metadata": {},
   "outputs": [],
   "source": []
  },
  {
   "cell_type": "code",
   "execution_count": null,
   "metadata": {},
   "outputs": [],
   "source": []
  }
 ],
 "metadata": {
  "kernelspec": {
   "display_name": "Python 3",
   "language": "python",
   "name": "python3"
  },
  "language_info": {
   "codemirror_mode": {
    "name": "ipython",
    "version": 3
   },
   "file_extension": ".py",
   "mimetype": "text/x-python",
   "name": "python",
   "nbconvert_exporter": "python",
   "pygments_lexer": "ipython3",
   "version": "3.8.3"
  }
 },
 "nbformat": 4,
 "nbformat_minor": 2
}
